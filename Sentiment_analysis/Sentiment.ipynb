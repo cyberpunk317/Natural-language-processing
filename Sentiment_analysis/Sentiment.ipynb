{
  "nbformat": 4,
  "nbformat_minor": 0,
  "metadata": {
    "kernelspec": {
      "name": "python3",
      "display_name": "Python 3"
    },
    "language_info": {
      "codemirror_mode": {
        "name": "ipython",
        "version": 3
      },
      "file_extension": ".py",
      "mimetype": "text/x-python",
      "name": "python",
      "nbconvert_exporter": "python",
      "pygments_lexer": "ipython3",
      "version": "3.7.3"
    },
    "colab": {
      "name": "Sentiment_RNN.ipynb",
      "version": "0.3.2",
      "provenance": [],
      "toc_visible": true
    },
    "accelerator": "GPU"
  },
  "cells": [
    {
      "cell_type": "code",
      "metadata": {
        "id": "l5iEyMiVgFMK",
        "colab_type": "code",
        "colab": {}
      },
      "source": [
        "import numpy as np\n",
        "import tensorflow as tf"
      ],
      "execution_count": 0,
      "outputs": []
    },
    {
      "cell_type": "code",
      "metadata": {
        "id": "cHXop52FgFMP",
        "colab_type": "code",
        "colab": {}
      },
      "source": [
        "with open('reviews.txt', 'r') as f:\n",
        "    reviews = f.read()\n",
        "with open('labels.txt', 'r') as f:\n",
        "    labels = f.read()"
      ],
      "execution_count": 0,
      "outputs": []
    },
    {
      "cell_type": "code",
      "metadata": {
        "id": "6HqHyZtagFMT",
        "colab_type": "code",
        "colab": {
          "base_uri": "https://localhost:8080/",
          "height": 54
        },
        "outputId": "038da784-0e1a-41dc-cd2f-2ce2fd4712b4"
      },
      "source": [
        "reviews[:2000]"
      ],
      "execution_count": 3,
      "outputs": [
        {
          "output_type": "execute_result",
          "data": {
            "text/plain": [
              "'bromwell high is a cartoon comedy . it ran at the same time as some other programs about school life  such as  teachers  . my   years in the teaching profession lead me to believe that bromwell high  s satire is much closer to reality than is  teachers  . the scramble to survive financially  the insightful students who can see right through their pathetic teachers  pomp  the pettiness of the whole situation  all remind me of the schools i knew and their students . when i saw the episode in which a student repeatedly tried to burn down the school  i immediately recalled . . . . . . . . . at . . . . . . . . . . high . a classic line inspector i  m here to sack one of your teachers . student welcome to bromwell high . i expect that many adults of my age think that bromwell high is far fetched . what a pity that it isn  t   \\nstory of a man who has unnatural feelings for a pig . starts out with a opening scene that is a terrific example of absurd comedy . a formal orchestra audience is turned into an insane  violent mob by the crazy chantings of it  s singers . unfortunately it stays absurd the whole time with no general narrative eventually making it just too off putting . even those from the era should be turned off . the cryptic dialogue would make shakespeare seem easy to a third grader . on a technical level it  s better than you might think with some good cinematography by future great vilmos zsigmond . future stars sally kirkland and frederic forrest can be seen briefly .  \\nhomelessness  or houselessness as george carlin stated  has been an issue for years but never a plan to help those on the street that were once considered human who did everything from going to school  work  or vote for the matter . most people think of the homeless as just a lost cause while worrying about things such as racism  the war on iraq  pressuring kids to succeed  technology  the elections  inflation  or worrying if they  ll be next to end up on the streets .  br    br   but what if y'"
            ]
          },
          "metadata": {
            "tags": []
          },
          "execution_count": 3
        }
      ]
    },
    {
      "cell_type": "markdown",
      "metadata": {
        "id": "JQGML-zmgFMY",
        "colab_type": "text"
      },
      "source": [
        "## Data preprocessing\n",
        "\n"
      ]
    },
    {
      "cell_type": "code",
      "metadata": {
        "id": "05nln9dmgFMZ",
        "colab_type": "code",
        "colab": {}
      },
      "source": [
        "from string import punctuation\n",
        "all_text = ''.join([c for c in reviews if c not in punctuation])\n",
        "reviews = all_text.split('\\n')\n",
        "\n",
        "all_text = ' '.join(reviews)\n",
        "words = all_text.split()"
      ],
      "execution_count": 0,
      "outputs": []
    },
    {
      "cell_type": "markdown",
      "metadata": {
        "id": "N3etf6exgFMj",
        "colab_type": "text"
      },
      "source": [
        "### Encoding the words\n",
        "\n"
      ]
    },
    {
      "cell_type": "code",
      "metadata": {
        "id": "TZ1wZ4GNgFMk",
        "colab_type": "code",
        "colab": {}
      },
      "source": [
        "# Create your dictionary that maps vocab words to integers here\n",
        "from collections import Counter\n",
        "words_count = Counter(words)\n",
        "vocab = sorted(words_count, key=words_count.get, reverse=True)\n",
        "vocab_to_int = {word: ii for ii, word in enumerate(vocab, 1)}\n",
        "\n",
        "# Convert the reviews to integers, same shape as reviews list, but with integers\n",
        "reviews_ints = []\n",
        "for review in reviews:\n",
        "    reviews_ints.append([vocab_to_int[word] for word in review.split()])"
      ],
      "execution_count": 0,
      "outputs": []
    },
    {
      "cell_type": "markdown",
      "metadata": {
        "id": "Q3lV6kZtgFMn",
        "colab_type": "text"
      },
      "source": [
        "### Encoding the labels\n",
        "\n"
      ]
    },
    {
      "cell_type": "code",
      "metadata": {
        "id": "Q7Noe29OgFMo",
        "colab_type": "code",
        "colab": {}
      },
      "source": [
        "labels = labels.split('\\n')\n",
        "labels = np.array([1 if each == 'positive' else 0 for each in labels])"
      ],
      "execution_count": 0,
      "outputs": []
    },
    {
      "cell_type": "code",
      "metadata": {
        "id": "vFqD-TwWgFMr",
        "colab_type": "code",
        "colab": {
          "base_uri": "https://localhost:8080/",
          "height": 50
        },
        "outputId": "f536ed2f-c130-49b0-c115-cc6cbc126ba9"
      },
      "source": [
        "from collections import Counter\n",
        "review_lens = Counter([len(x) for x in reviews_ints])\n",
        "print(\"Zero-length reviews: {}\".format(review_lens[0]))\n",
        "print(\"Maximum review length: {}\".format(max(review_lens)))"
      ],
      "execution_count": 7,
      "outputs": [
        {
          "output_type": "stream",
          "text": [
            "Zero-length reviews: 1\n",
            "Maximum review length: 2514\n"
          ],
          "name": "stdout"
        }
      ]
    },
    {
      "cell_type": "code",
      "metadata": {
        "id": "Gt9iXvbJgFMw",
        "colab_type": "code",
        "colab": {
          "base_uri": "https://localhost:8080/",
          "height": 34
        },
        "outputId": "9e654938-3f18-45bc-b246-37f0e8b3c167"
      },
      "source": [
        "# Filter out that review with 0 length\n",
        "reviews_ints = list(filter(lambda x: len(x)!=0, reviews_ints))\n",
        "print(len(reviews_ints))"
      ],
      "execution_count": 8,
      "outputs": [
        {
          "output_type": "stream",
          "text": [
            "25000\n"
          ],
          "name": "stdout"
        }
      ]
    },
    {
      "cell_type": "code",
      "metadata": {
        "id": "EBYy0uTGgFMz",
        "colab_type": "code",
        "colab": {
          "base_uri": "https://localhost:8080/",
          "height": 319
        },
        "outputId": "ebb5708d-5d14-4b10-dd3b-e97db897a707"
      },
      "source": [
        "seq_len = 200\n",
        "features = np.array([np.pad(x, (seq_len-len(x),0), 'constant') if seq_len-len(x)>0\n",
        "            else x[:seq_len] for x in reviews_ints])\n",
        "print(len(features))\n",
        "print(features[0])"
      ],
      "execution_count": 9,
      "outputs": [
        {
          "output_type": "stream",
          "text": [
            "25000\n",
            "[    0     0     0     0     0     0     0     0     0     0     0     0\n",
            "     0     0     0     0     0     0     0     0     0     0     0     0\n",
            "     0     0     0     0     0     0     0     0     0     0     0     0\n",
            "     0     0     0     0     0     0     0     0     0     0     0     0\n",
            "     0     0     0     0     0     0     0     0     0     0     0     0\n",
            " 21025   308     6     3  1050   207     8  2138    32     1   171    57\n",
            "    15    49    81  5785    44   382   110   140    15  5194    60   154\n",
            "     9     1  4975  5852   475    71     5   260    12 21025   308    13\n",
            "  1978     6    74  2395     5   613    73     6  5194     1 24103     5\n",
            "  1983 10166     1  5786  1499    36    51    66   204   145    67  1199\n",
            "  5194 19869     1 37442     4     1   221   883    31  2988    71     4\n",
            "     1  5787    10   686     2    67  1499    54    10   216     1   383\n",
            "     9    62     3  1406  3686   783     5  3483   180     1   382    10\n",
            "  1212 13583    32   308     3   349   341  2913    10   143   127     5\n",
            "  7690    30     4   129  5194  1406  2326     5 21025   308    10   528\n",
            "    12   109  1448     4    60   543   102    12 21025   308     6   227\n",
            "  4146    48     3  2211    12     8   215    23]\n"
          ],
          "name": "stdout"
        }
      ]
    },
    {
      "cell_type": "code",
      "metadata": {
        "id": "MxZO-a2QgFM3",
        "colab_type": "code",
        "colab": {
          "base_uri": "https://localhost:8080/",
          "height": 1000
        },
        "outputId": "d8e4dc2e-70a0-4a99-e27f-c5ae886941c1"
      },
      "source": [
        "features[:10,:100]"
      ],
      "execution_count": 10,
      "outputs": [
        {
          "output_type": "execute_result",
          "data": {
            "text/plain": [
              "array([[    0,     0,     0,     0,     0,     0,     0,     0,     0,\n",
              "            0,     0,     0,     0,     0,     0,     0,     0,     0,\n",
              "            0,     0,     0,     0,     0,     0,     0,     0,     0,\n",
              "            0,     0,     0,     0,     0,     0,     0,     0,     0,\n",
              "            0,     0,     0,     0,     0,     0,     0,     0,     0,\n",
              "            0,     0,     0,     0,     0,     0,     0,     0,     0,\n",
              "            0,     0,     0,     0,     0,     0, 21025,   308,     6,\n",
              "            3,  1050,   207,     8,  2138,    32,     1,   171,    57,\n",
              "           15,    49,    81,  5785,    44,   382,   110,   140,    15,\n",
              "         5194,    60,   154,     9,     1,  4975,  5852,   475,    71,\n",
              "            5,   260,    12, 21025,   308,    13,  1978,     6,    74,\n",
              "         2395],\n",
              "       [    0,     0,     0,     0,     0,     0,     0,     0,     0,\n",
              "            0,     0,     0,     0,     0,     0,     0,     0,     0,\n",
              "            0,     0,     0,     0,     0,     0,     0,     0,     0,\n",
              "            0,     0,     0,     0,     0,     0,     0,     0,     0,\n",
              "            0,     0,     0,     0,     0,     0,     0,     0,     0,\n",
              "            0,     0,     0,     0,     0,     0,     0,     0,     0,\n",
              "            0,     0,     0,     0,     0,     0,     0,     0,     0,\n",
              "            0,     0,     0,     0,     0,     0,     0,     0,     0,\n",
              "            0,     0,     0,     0,     0,     0,     0,     0,     0,\n",
              "            0,     0,     0,     0,     0,    63,     4,     3,   125,\n",
              "           36,    47,  7472,  1395,    16,     3,  4181,   505,    45,\n",
              "           17],\n",
              "       [22382,    42, 46418,    15,   706, 17139,  3389,    47,    77,\n",
              "           35,  1819,    16,   154,    19,   114,     3,  1305,     5,\n",
              "          336,   147,    22,     1,   857,    12,    70,   281,  1168,\n",
              "          399,    36,   120,   283,    38,   169,     5,   382,   158,\n",
              "           42,  2269,    16,     1,   541,    90,    78,   102,     4,\n",
              "            1,  3244,    15,    43,     3,   407,  1068,   136,  8055,\n",
              "           44,   182,   140,    15,  3043,     1,   320,    22,  4818,\n",
              "        26224,   346,     5,  3090,  2092,     1, 18839, 17939,    42,\n",
              "         8055,    46,    33,   236,    29,   370,     5,   130,    56,\n",
              "           22,     1,  1928,     7,     7,    19,    48,    46,    21,\n",
              "           70,   344,     3,  2099,     5,   408,    22,     1,  1928,\n",
              "           16],\n",
              "       [ 4505,   505,    15,     3,  3342,   162,  8312,  1652,     6,\n",
              "         4819,    56,    17,  4504,  5616,   140, 11725,     5,   996,\n",
              "         4919,  2933,  4462,   566,  1201,    36,     6,  1518,    96,\n",
              "            3,   744,     4, 26225,    13,     5,    27,  3461,     9,\n",
              "        10625,     4,     8,   111,  3013,     5,     1,  1027,    15,\n",
              "            3,  4390,    82,    22,  2049,     6,  4462,   538,  2764,\n",
              "         7073, 37443,    41,   463,     1,  8312, 46419,   302,   123,\n",
              "           15,  4221,    19,  1667,   922,     1,  1652,     6,  6129,\n",
              "        19871,    34,     1,   980,  1751, 22383,   646, 24104,    27,\n",
              "          106, 11726,    13, 14045, 15097, 17940,  2457,   466, 21027,\n",
              "           36,  3266,     1,  6365,  1020,    45,    17,  2695,  2499,\n",
              "           33],\n",
              "       [    0,     0,     0,     0,     0,     0,     0,     0,     0,\n",
              "            0,     0,     0,     0,     0,     0,     0,     0,     0,\n",
              "            0,     0,     0,     0,     0,     0,     0,     0,     0,\n",
              "            0,     0,     0,     0,     0,     0,     0,     0,     0,\n",
              "            0,     0,     0,     0,     0,     0,     0,     0,     0,\n",
              "            0,     0,     0,     0,     0,   520,   119,   113,    34,\n",
              "        16372,  1816,  3737,   117,   885, 21030,   721,    10,    28,\n",
              "          124,   108,     2,   115,   137,     9,  1623,  7691,    26,\n",
              "          330,     5,   589,     1,  6130,    22,   386,     6,     3,\n",
              "          349,    15,    50,    15,   231,     9,  7473, 11399,     1,\n",
              "          191,    22,  8966,     6,    82,   880,   101,   111,  3584,\n",
              "            4],\n",
              "       [    0,     0,     0,     0,     0,     0,     0,     0,     0,\n",
              "            0,     0,     0,     0,     0,     0,     0,     0,     0,\n",
              "            0,     0,     0,     0,     0,     0,     0,     0,     0,\n",
              "            0,     0,     0,     0,     0,     0,     0,     0,     0,\n",
              "            0,     0,     0,     0,     0,     0,     0,     0,     0,\n",
              "            0,     0,     0,     0,     0,     0,     0,     0,     0,\n",
              "           11,    20,  3637,   141,    10,   422,    23,   272,    60,\n",
              "         4355,    22,    32,    84,  3286,    22,     1,   172,     4,\n",
              "            1,   952,   507,    11,  4977,  5361,     5,   574,     4,\n",
              "         1155,    54,    53,  5304,     1,   261,    17,    41,   952,\n",
              "          125,    59,     1,   711,   137,   379,   626,    15,   111,\n",
              "         1509],\n",
              "       [    0,     0,     0,     0,     0,     0,     0,     0,     0,\n",
              "            0,     0,     0,     0,     0,     0,     0,     0,     0,\n",
              "            0,     0,     0,     0,     0,     0,     0,     0,     0,\n",
              "            0,     0,     0,     0,     0,     0,     0,     0,     0,\n",
              "            0,     0,     0,     0,     0,     0,     0,     0,     0,\n",
              "            0,     0,     0,     0,     0,     0,     0,     0,     0,\n",
              "            0,     0,     0,     0,     0,     0,     0,     0,     0,\n",
              "            0,     0,     0,     0,     0,     0,     0,     0,     0,\n",
              "            0,     0,     0,     0,    11,     6,   692,     1,    90,\n",
              "         2156,    20, 11728,     1,  2818,  5195,   249,    92,  3006,\n",
              "            8,   126,    24,   200,     3,   802,   634,     4, 22382,\n",
              "         1001],\n",
              "       [    0,     0,     0,     0,     0,     0,     0,     0,     0,\n",
              "            0,     0,     0,     0,     0,     0,     0,     0,     0,\n",
              "            0,     0,     0,     0,     0,     0,     0,     0,     0,\n",
              "            0,     0,     0,     0,     0,     0,     0,     0,     0,\n",
              "            0,     0,     0,     0,     0,     0,     0,     0,     0,\n",
              "            0,     0,   786,   295,    10,   122,    11,     6,   419,\n",
              "            5,    29,    35,   482,    20,    19,  1281,    33,   142,\n",
              "           28,  2657,    45,  1840,    32,     1,  2778,    37,    78,\n",
              "           97,  2436,    67,  3950,    45,     2,    24,   105,   256,\n",
              "            1,   134,  1571,     2, 12399,   451,    14,   319,    11,\n",
              "           63,     6,    98,  1321,     5,   105,     1,  3767,     4,\n",
              "            3],\n",
              "       [    0,     0,     0,     0,     0,     0,     0,     0,     0,\n",
              "            0,     0,     0,     0,     0,     0,     0,     0,     0,\n",
              "            0,     0,     0,     0,     0,     0,     0,     0,     0,\n",
              "            0,     0,     0,     0,     0,     0,     0,     0,     0,\n",
              "            0,     0,     0,     0,     0,     0,     0,     0,     0,\n",
              "            0,     0,     0,     0,     0,     0,     0,     0,     0,\n",
              "            0,     0,     0,     0,     0,     0,     0,     0,     0,\n",
              "            0,     0,     0,     0,     0,     0,     0,     0,     0,\n",
              "            0,     0,     0,     0,     0,     0,     0,    11,     6,\n",
              "           24,     1,   779,  3687,  2818,    20,     8,    14,    74,\n",
              "          325,  2730,    73,    90,     4,    27,    99,     2,   165,\n",
              "           68],\n",
              "       [   54,    10,    14,   116,    60,   798,   552,    71,   364,\n",
              "            5,     1,   730,     5,    66,  8057,     8,    14,    30,\n",
              "            4,   109,    99,    10,   293,    17,    60,   798,    19,\n",
              "           11,    14,     1,    64,    30,    69,  2500,    45,     4,\n",
              "          234,    93,    10,    68,   114,   108,  8057,   363,    43,\n",
              "         1009,     2,    10,    97,    28,  1431,    45,     1,   357,\n",
              "            4,    60,   110,   205,     8,    48,     3,  1929, 10880,\n",
              "            2,  2124,   354,   412,     4,    13,  6609,     2,  2974,\n",
              "         5148,  2125,  1366,     6,    30,     4,    60,   502,   876,\n",
              "           19,  8057,     6,    34,   227,     1,   247,   412,     4,\n",
              "          582,     4,    27,   599,     9,     1, 13586,   396,     4,\n",
              "        14047]])"
            ]
          },
          "metadata": {
            "tags": []
          },
          "execution_count": 10
        }
      ]
    },
    {
      "cell_type": "markdown",
      "metadata": {
        "id": "LAtB7gMggFM6",
        "colab_type": "text"
      },
      "source": [
        "## Training, Validation, Test\n",
        "\n"
      ]
    },
    {
      "cell_type": "code",
      "metadata": {
        "id": "NEYhK3gkgFM6",
        "colab_type": "code",
        "colab": {
          "base_uri": "https://localhost:8080/",
          "height": 34
        },
        "outputId": "b4f218e0-86e0-4919-fd1e-37d782b8005c"
      },
      "source": [
        "print(int(len(features)*0.8))"
      ],
      "execution_count": 11,
      "outputs": [
        {
          "output_type": "stream",
          "text": [
            "20000\n"
          ],
          "name": "stdout"
        }
      ]
    },
    {
      "cell_type": "code",
      "metadata": {
        "id": "pMBBmUjCgFM9",
        "colab_type": "code",
        "colab": {
          "base_uri": "https://localhost:8080/",
          "height": 84
        },
        "outputId": "7f4f0f64-4d18-4bc6-8679-f3b9154c8c29"
      },
      "source": [
        "split_frac = 0.8\n",
        "split_idx = int(len(features)*0.8)\n",
        "train_x, val_x = features[:split_idx], features[split_idx:]\n",
        "train_y, val_y = labels[:split_idx], labels[split_idx:]\n",
        "\n",
        "test_idx = int(len(val_x)*0.5)\n",
        "val_x, test_x = val_x[:test_idx], val_x[test_idx:]\n",
        "val_y, test_y = val_y[:test_idx], val_y[test_idx:]\n",
        "print(\"\\t\\t\\tFeature Shapes:\")\n",
        "print(\"Train set: \\t\\t{}\".format(train_x.shape), \n",
        "      \"\\nValidation set: \\t{}\".format(val_x.shape),\n",
        "      \"\\nTest set: \\t\\t{}\".format(test_x.shape))"
      ],
      "execution_count": 12,
      "outputs": [
        {
          "output_type": "stream",
          "text": [
            "\t\t\tFeature Shapes:\n",
            "Train set: \t\t(20000, 200) \n",
            "Validation set: \t(2500, 200) \n",
            "Test set: \t\t(2500, 200)\n"
          ],
          "name": "stdout"
        }
      ]
    },
    {
      "cell_type": "markdown",
      "metadata": {
        "id": "UOUBtVypgFNA",
        "colab_type": "text"
      },
      "source": [
        "## Build the graph\n"
      ]
    },
    {
      "cell_type": "code",
      "metadata": {
        "id": "zzhZXwSigFNA",
        "colab_type": "code",
        "colab": {}
      },
      "source": [
        "lstm_size = 256\n",
        "lstm_layers = 2\n",
        "batch_size = 500\n",
        "learning_rate = 0.001"
      ],
      "execution_count": 0,
      "outputs": []
    },
    {
      "cell_type": "code",
      "metadata": {
        "id": "fy6X0_n5gFND",
        "colab_type": "code",
        "colab": {}
      },
      "source": [
        "n_words = len(vocab_to_int) + 1 # Adding 1 because we use 0's for padding, dictionary started at 1\n",
        "\n",
        "# Create the graph object\n",
        "graph = tf.Graph()\n",
        "# Add nodes to the graph\n",
        "with graph.as_default():\n",
        "    inputs_ = tf.placeholder(tf.int32, [None, None], name=\"inputs\")\n",
        "    labels_ = tf.placeholder(tf.int32, [None, None], name=\"labels\")\n",
        "    keep_prob = tf.placeholder(tf.float32)"
      ],
      "execution_count": 0,
      "outputs": []
    },
    {
      "cell_type": "markdown",
      "metadata": {
        "id": "fYG6WkMfgFNH",
        "colab_type": "text"
      },
      "source": [
        "### Embedding\n"
      ]
    },
    {
      "cell_type": "code",
      "metadata": {
        "id": "xuA3lZxugFNH",
        "colab_type": "code",
        "colab": {}
      },
      "source": [
        "# Size of the embedding vectors (number of units in the embedding layer)\n",
        "embed_size = 300 \n",
        "\n",
        "with graph.as_default():\n",
        "    embedding = tf.Variable(tf.random_uniform((n_words, embed_size), -1, 1))\n",
        "    embed = tf.nn.embedding_lookup(embedding, inputs_)"
      ],
      "execution_count": 0,
      "outputs": []
    },
    {
      "cell_type": "markdown",
      "metadata": {
        "id": "B3PsPrxTgFNK",
        "colab_type": "text"
      },
      "source": [
        "### LSTM cell\n"
      ]
    },
    {
      "cell_type": "code",
      "metadata": {
        "id": "Fojr9NK1gFNL",
        "colab_type": "code",
        "colab": {}
      },
      "source": [
        "with graph.as_default():\n",
        "    # Your basic LSTM cell\n",
        "    lstm = tf.contrib.rnn.BasicLSTMCell(lstm_size)\n",
        "    \n",
        "    # Add dropout to the cell\n",
        "    drop = tf.contrib.rnn.DropoutWrapper(lstm, output_keep_prob=keep_prob)\n",
        "    \n",
        "    # Stack up multiple LSTM layers, for deep learning\n",
        "    def lstm_cell():\n",
        "      lstm = tf.contrib.rnn.BasicLSTMCell(lstm_size)\n",
        "      drop = tf.contrib.rnn.DropoutWrapper(lstm, output_keep_prob=keep_prob)\n",
        "      return drop \n",
        "    \n",
        "    cell = tf.contrib.rnn.MultiRNNCell(\n",
        "      [lstm_cell() for _ in range(lstm_layers)])\n",
        "\n",
        "    initial_state = state = cell.zero_state(batch_size, tf.float32)"
      ],
      "execution_count": 0,
      "outputs": []
    },
    {
      "cell_type": "markdown",
      "metadata": {
        "id": "SKW1dIXsgFNQ",
        "colab_type": "text"
      },
      "source": [
        "### RNN forward pass\n",
        "\n"
      ]
    },
    {
      "cell_type": "code",
      "metadata": {
        "id": "RaX3bZXXgFNR",
        "colab_type": "code",
        "colab": {}
      },
      "source": [
        "with graph.as_default():\n",
        "    outputs, final_state = tf.nn.dynamic_rnn(cell, \n",
        "                                             embed, \n",
        "                                             initial_state=initial_state)"
      ],
      "execution_count": 0,
      "outputs": []
    },
    {
      "cell_type": "markdown",
      "metadata": {
        "id": "Lf2lnvVRgFNW",
        "colab_type": "text"
      },
      "source": [
        "### Output\n"
      ]
    },
    {
      "cell_type": "code",
      "metadata": {
        "id": "LA0hwtYggFNX",
        "colab_type": "code",
        "colab": {
          "base_uri": "https://localhost:8080/",
          "height": 87
        },
        "outputId": "43658fea-54bc-4031-d91e-b1c26bf1cf7c"
      },
      "source": [
        "with graph.as_default():\n",
        "    predictions = tf.contrib.layers.fully_connected(outputs[:, -1], 1, activation_fn=tf.sigmoid)\n",
        "    cost = tf.losses.mean_squared_error(labels_, predictions)\n",
        "    \n",
        "    optimizer = tf.train.AdamOptimizer(learning_rate).minimize(cost)"
      ],
      "execution_count": 30,
      "outputs": [
        {
          "output_type": "stream",
          "text": [
            "W0806 13:17:07.657267 139719125829504 deprecation.py:323] From /usr/local/lib/python3.6/dist-packages/tensorflow/python/ops/losses/losses_impl.py:121: add_dispatch_support.<locals>.wrapper (from tensorflow.python.ops.array_ops) is deprecated and will be removed in a future version.\n",
            "Instructions for updating:\n",
            "Use tf.where in 2.0, which has the same broadcast rule as np.where\n"
          ],
          "name": "stderr"
        }
      ]
    },
    {
      "cell_type": "markdown",
      "metadata": {
        "id": "5wJU7MLsgFNZ",
        "colab_type": "text"
      },
      "source": [
        "### Validation accuracy\n"
      ]
    },
    {
      "cell_type": "code",
      "metadata": {
        "id": "Z5Zp8oOjgFNa",
        "colab_type": "code",
        "colab": {}
      },
      "source": [
        "with graph.as_default():\n",
        "    correct_pred = tf.equal(tf.cast(tf.round(predictions), tf.int32), labels_)\n",
        "    accuracy = tf.reduce_mean(tf.cast(correct_pred, tf.float32))"
      ],
      "execution_count": 0,
      "outputs": []
    },
    {
      "cell_type": "markdown",
      "metadata": {
        "id": "q7RUSCI2gFNd",
        "colab_type": "text"
      },
      "source": [
        "### Batching\n",
        "\n"
      ]
    },
    {
      "cell_type": "code",
      "metadata": {
        "id": "QeyFIgS5gFNe",
        "colab_type": "code",
        "colab": {}
      },
      "source": [
        "def get_batches(x, y, batch_size=100):\n",
        "    \n",
        "    n_batches = len(x)//batch_size\n",
        "    x, y = x[:n_batches*batch_size], y[:n_batches*batch_size]\n",
        "    for ii in range(0, len(x), batch_size):\n",
        "        yield x[ii:ii+batch_size], y[ii:ii+batch_size]"
      ],
      "execution_count": 0,
      "outputs": []
    },
    {
      "cell_type": "markdown",
      "metadata": {
        "id": "MgqgmQp4gFNh",
        "colab_type": "text"
      },
      "source": [
        "## Training\n"
      ]
    },
    {
      "cell_type": "code",
      "metadata": {
        "id": "_y3qFlB8gFNi",
        "colab_type": "code",
        "colab": {
          "base_uri": "https://localhost:8080/",
          "height": 1000
        },
        "outputId": "b034ccc7-da2b-4348-9e65-2b480310075b"
      },
      "source": [
        "epochs = 20\n",
        "\n",
        "with graph.as_default():\n",
        "    saver = tf.train.Saver()\n",
        "\n",
        "with tf.Session(graph=graph) as sess:\n",
        "    sess.run(tf.global_variables_initializer())\n",
        "    iteration = 1\n",
        "    for e in range(epochs):\n",
        "        state = sess.run(initial_state)\n",
        "        \n",
        "        for ii, (x, y) in enumerate(get_batches(train_x, train_y, batch_size), 1):\n",
        "            feed = {inputs_: x,\n",
        "                    labels_: y[:, None],\n",
        "                    keep_prob: 0.5,\n",
        "                    initial_state: state}\n",
        "            loss, state, _ = sess.run([cost, final_state, optimizer], feed_dict=feed)\n",
        "            \n",
        "            if iteration%5==0:\n",
        "                print(\"Epoch: {}/{}\".format(e, epochs),\n",
        "                      \"Iteration: {}\".format(iteration),\n",
        "                      \"Train loss: {:.3f}\".format(loss))\n",
        "\n",
        "            if iteration%25==0:\n",
        "                val_acc = []\n",
        "                val_state = sess.run(cell.zero_state(batch_size, tf.float32))\n",
        "                for x, y in get_batches(val_x, val_y, batch_size):\n",
        "                    feed = {inputs_: x,\n",
        "                            labels_: y[:, None],\n",
        "                            keep_prob: 1,\n",
        "                            initial_state: val_state}\n",
        "                    batch_acc, val_state = sess.run([accuracy, final_state], feed_dict=feed)\n",
        "                    val_acc.append(batch_acc)\n",
        "                print(\"Val acc: {:.3f}\".format(np.mean(val_acc)))\n",
        "            iteration +=1\n",
        "    saver.save(sess, \"checkpoints/sentiment.ckpt\")"
      ],
      "execution_count": 33,
      "outputs": [
        {
          "output_type": "stream",
          "text": [
            "Epoch: 0/20 Iteration: 5 Train loss: 0.238\n",
            "Epoch: 0/20 Iteration: 10 Train loss: 0.226\n",
            "Epoch: 0/20 Iteration: 15 Train loss: 0.216\n",
            "Epoch: 0/20 Iteration: 20 Train loss: 0.236\n",
            "Epoch: 0/20 Iteration: 25 Train loss: 0.207\n",
            "Val acc: 0.670\n",
            "Epoch: 0/20 Iteration: 30 Train loss: 0.202\n",
            "Epoch: 0/20 Iteration: 35 Train loss: 0.199\n",
            "Epoch: 0/20 Iteration: 40 Train loss: 0.183\n",
            "Epoch: 1/20 Iteration: 45 Train loss: 0.166\n",
            "Epoch: 1/20 Iteration: 50 Train loss: 0.195\n",
            "Val acc: 0.773\n",
            "Epoch: 1/20 Iteration: 55 Train loss: 0.163\n",
            "Epoch: 1/20 Iteration: 60 Train loss: 0.189\n",
            "Epoch: 1/20 Iteration: 65 Train loss: 0.160\n",
            "Epoch: 1/20 Iteration: 70 Train loss: 0.233\n",
            "Epoch: 1/20 Iteration: 75 Train loss: 0.176\n",
            "Val acc: 0.744\n",
            "Epoch: 1/20 Iteration: 80 Train loss: 0.165\n",
            "Epoch: 2/20 Iteration: 85 Train loss: 0.150\n",
            "Epoch: 2/20 Iteration: 90 Train loss: 0.146\n",
            "Epoch: 2/20 Iteration: 95 Train loss: 0.155\n",
            "Epoch: 2/20 Iteration: 100 Train loss: 0.151\n",
            "Val acc: 0.786\n",
            "Epoch: 2/20 Iteration: 105 Train loss: 0.190\n",
            "Epoch: 2/20 Iteration: 110 Train loss: 0.264\n",
            "Epoch: 2/20 Iteration: 115 Train loss: 0.196\n",
            "Epoch: 2/20 Iteration: 120 Train loss: 0.177\n",
            "Epoch: 3/20 Iteration: 125 Train loss: 0.139\n",
            "Val acc: 0.754\n",
            "Epoch: 3/20 Iteration: 130 Train loss: 0.178\n",
            "Epoch: 3/20 Iteration: 135 Train loss: 0.157\n",
            "Epoch: 3/20 Iteration: 140 Train loss: 0.175\n",
            "Epoch: 3/20 Iteration: 145 Train loss: 0.151\n",
            "Epoch: 3/20 Iteration: 150 Train loss: 0.179\n",
            "Val acc: 0.745\n",
            "Epoch: 3/20 Iteration: 155 Train loss: 0.121\n",
            "Epoch: 3/20 Iteration: 160 Train loss: 0.150\n",
            "Epoch: 4/20 Iteration: 165 Train loss: 0.132\n",
            "Epoch: 4/20 Iteration: 170 Train loss: 0.166\n",
            "Epoch: 4/20 Iteration: 175 Train loss: 0.132\n",
            "Val acc: 0.771\n",
            "Epoch: 4/20 Iteration: 180 Train loss: 0.137\n",
            "Epoch: 4/20 Iteration: 185 Train loss: 0.141\n",
            "Epoch: 4/20 Iteration: 190 Train loss: 0.215\n",
            "Epoch: 4/20 Iteration: 195 Train loss: 0.120\n",
            "Epoch: 4/20 Iteration: 200 Train loss: 0.134\n",
            "Val acc: 0.770\n",
            "Epoch: 5/20 Iteration: 205 Train loss: 0.131\n",
            "Epoch: 5/20 Iteration: 210 Train loss: 0.178\n",
            "Epoch: 5/20 Iteration: 215 Train loss: 0.112\n",
            "Epoch: 5/20 Iteration: 220 Train loss: 0.125\n",
            "Epoch: 5/20 Iteration: 225 Train loss: 0.112\n",
            "Val acc: 0.780\n",
            "Epoch: 5/20 Iteration: 230 Train loss: 0.115\n",
            "Epoch: 5/20 Iteration: 235 Train loss: 0.109\n",
            "Epoch: 5/20 Iteration: 240 Train loss: 0.124\n",
            "Epoch: 6/20 Iteration: 245 Train loss: 0.121\n",
            "Epoch: 6/20 Iteration: 250 Train loss: 0.139\n",
            "Val acc: 0.741\n",
            "Epoch: 6/20 Iteration: 255 Train loss: 0.154\n",
            "Epoch: 6/20 Iteration: 260 Train loss: 0.188\n",
            "Epoch: 6/20 Iteration: 265 Train loss: 0.315\n",
            "Epoch: 6/20 Iteration: 270 Train loss: 0.248\n",
            "Epoch: 6/20 Iteration: 275 Train loss: 0.213\n",
            "Val acc: 0.591\n",
            "Epoch: 6/20 Iteration: 280 Train loss: 0.200\n",
            "Epoch: 7/20 Iteration: 285 Train loss: 0.126\n",
            "Epoch: 7/20 Iteration: 290 Train loss: 0.143\n",
            "Epoch: 7/20 Iteration: 295 Train loss: 0.145\n",
            "Epoch: 7/20 Iteration: 300 Train loss: 0.141\n",
            "Val acc: 0.767\n",
            "Epoch: 7/20 Iteration: 305 Train loss: 0.102\n",
            "Epoch: 7/20 Iteration: 310 Train loss: 0.100\n",
            "Epoch: 7/20 Iteration: 315 Train loss: 0.079\n",
            "Epoch: 7/20 Iteration: 320 Train loss: 0.117\n",
            "Epoch: 8/20 Iteration: 325 Train loss: 0.070\n",
            "Val acc: 0.823\n",
            "Epoch: 8/20 Iteration: 330 Train loss: 0.086\n",
            "Epoch: 8/20 Iteration: 335 Train loss: 0.080\n",
            "Epoch: 8/20 Iteration: 340 Train loss: 0.093\n",
            "Epoch: 8/20 Iteration: 345 Train loss: 0.092\n",
            "Epoch: 8/20 Iteration: 350 Train loss: 0.066\n",
            "Val acc: 0.842\n",
            "Epoch: 8/20 Iteration: 355 Train loss: 0.086\n",
            "Epoch: 8/20 Iteration: 360 Train loss: 0.080\n",
            "Epoch: 9/20 Iteration: 365 Train loss: 0.062\n",
            "Epoch: 9/20 Iteration: 370 Train loss: 0.072\n",
            "Epoch: 9/20 Iteration: 375 Train loss: 0.047\n",
            "Val acc: 0.845\n",
            "Epoch: 9/20 Iteration: 380 Train loss: 0.085\n",
            "Epoch: 9/20 Iteration: 385 Train loss: 0.051\n",
            "Epoch: 9/20 Iteration: 390 Train loss: 0.087\n",
            "Epoch: 9/20 Iteration: 395 Train loss: 0.080\n",
            "Epoch: 9/20 Iteration: 400 Train loss: 0.066\n",
            "Val acc: 0.826\n",
            "Epoch: 10/20 Iteration: 405 Train loss: 0.042\n",
            "Epoch: 10/20 Iteration: 410 Train loss: 0.059\n",
            "Epoch: 10/20 Iteration: 415 Train loss: 0.045\n",
            "Epoch: 10/20 Iteration: 420 Train loss: 0.076\n",
            "Epoch: 10/20 Iteration: 425 Train loss: 0.061\n",
            "Val acc: 0.809\n",
            "Epoch: 10/20 Iteration: 430 Train loss: 0.102\n",
            "Epoch: 10/20 Iteration: 435 Train loss: 0.090\n",
            "Epoch: 10/20 Iteration: 440 Train loss: 0.054\n",
            "Epoch: 11/20 Iteration: 445 Train loss: 0.058\n",
            "Epoch: 11/20 Iteration: 450 Train loss: 0.051\n",
            "Val acc: 0.807\n",
            "Epoch: 11/20 Iteration: 455 Train loss: 0.133\n",
            "Epoch: 11/20 Iteration: 460 Train loss: 0.116\n",
            "Epoch: 11/20 Iteration: 465 Train loss: 0.112\n",
            "Epoch: 11/20 Iteration: 470 Train loss: 0.079\n",
            "Epoch: 11/20 Iteration: 475 Train loss: 0.096\n",
            "Val acc: 0.803\n",
            "Epoch: 11/20 Iteration: 480 Train loss: 0.084\n",
            "Epoch: 12/20 Iteration: 485 Train loss: 0.053\n",
            "Epoch: 12/20 Iteration: 490 Train loss: 0.042\n",
            "Epoch: 12/20 Iteration: 495 Train loss: 0.036\n",
            "Epoch: 12/20 Iteration: 500 Train loss: 0.060\n",
            "Val acc: 0.830\n",
            "Epoch: 12/20 Iteration: 505 Train loss: 0.035\n",
            "Epoch: 12/20 Iteration: 510 Train loss: 0.034\n",
            "Epoch: 12/20 Iteration: 515 Train loss: 0.036\n",
            "Epoch: 12/20 Iteration: 520 Train loss: 0.048\n",
            "Epoch: 13/20 Iteration: 525 Train loss: 0.052\n",
            "Val acc: 0.835\n",
            "Epoch: 13/20 Iteration: 530 Train loss: 0.036\n",
            "Epoch: 13/20 Iteration: 535 Train loss: 0.020\n",
            "Epoch: 13/20 Iteration: 540 Train loss: 0.043\n",
            "Epoch: 13/20 Iteration: 545 Train loss: 0.055\n",
            "Epoch: 13/20 Iteration: 550 Train loss: 0.050\n",
            "Val acc: 0.854\n",
            "Epoch: 13/20 Iteration: 555 Train loss: 0.084\n",
            "Epoch: 13/20 Iteration: 560 Train loss: 0.079\n",
            "Epoch: 14/20 Iteration: 565 Train loss: 0.046\n",
            "Epoch: 14/20 Iteration: 570 Train loss: 0.043\n",
            "Epoch: 14/20 Iteration: 575 Train loss: 0.039\n",
            "Val acc: 0.837\n",
            "Epoch: 14/20 Iteration: 580 Train loss: 0.067\n",
            "Epoch: 14/20 Iteration: 585 Train loss: 0.045\n",
            "Epoch: 14/20 Iteration: 590 Train loss: 0.040\n",
            "Epoch: 14/20 Iteration: 595 Train loss: 0.031\n",
            "Epoch: 14/20 Iteration: 600 Train loss: 0.034\n",
            "Val acc: 0.851\n",
            "Epoch: 15/20 Iteration: 605 Train loss: 0.060\n",
            "Epoch: 15/20 Iteration: 610 Train loss: 0.040\n",
            "Epoch: 15/20 Iteration: 615 Train loss: 0.027\n",
            "Epoch: 15/20 Iteration: 620 Train loss: 0.040\n",
            "Epoch: 15/20 Iteration: 625 Train loss: 0.031\n",
            "Val acc: 0.840\n",
            "Epoch: 15/20 Iteration: 630 Train loss: 0.026\n",
            "Epoch: 15/20 Iteration: 635 Train loss: 0.058\n",
            "Epoch: 15/20 Iteration: 640 Train loss: 0.042\n",
            "Epoch: 16/20 Iteration: 645 Train loss: 0.042\n",
            "Epoch: 16/20 Iteration: 650 Train loss: 0.060\n",
            "Val acc: 0.821\n",
            "Epoch: 16/20 Iteration: 655 Train loss: 0.033\n",
            "Epoch: 16/20 Iteration: 660 Train loss: 0.033\n",
            "Epoch: 16/20 Iteration: 665 Train loss: 0.024\n",
            "Epoch: 16/20 Iteration: 670 Train loss: 0.017\n",
            "Epoch: 16/20 Iteration: 675 Train loss: 0.012\n",
            "Val acc: 0.873\n",
            "Epoch: 16/20 Iteration: 680 Train loss: 0.020\n",
            "Epoch: 17/20 Iteration: 685 Train loss: 0.026\n",
            "Epoch: 17/20 Iteration: 690 Train loss: 0.027\n",
            "Epoch: 17/20 Iteration: 695 Train loss: 0.019\n",
            "Epoch: 17/20 Iteration: 700 Train loss: 0.019\n",
            "Val acc: 0.882\n",
            "Epoch: 17/20 Iteration: 705 Train loss: 0.015\n",
            "Epoch: 17/20 Iteration: 710 Train loss: 0.019\n",
            "Epoch: 17/20 Iteration: 715 Train loss: 0.023\n",
            "Epoch: 17/20 Iteration: 720 Train loss: 0.028\n",
            "Epoch: 18/20 Iteration: 725 Train loss: 0.046\n",
            "Val acc: 0.810\n",
            "Epoch: 18/20 Iteration: 730 Train loss: 0.049\n",
            "Epoch: 18/20 Iteration: 735 Train loss: 0.023\n",
            "Epoch: 18/20 Iteration: 740 Train loss: 0.048\n",
            "Epoch: 18/20 Iteration: 745 Train loss: 0.015\n",
            "Epoch: 18/20 Iteration: 750 Train loss: 0.016\n",
            "Val acc: 0.879\n",
            "Epoch: 18/20 Iteration: 755 Train loss: 0.027\n",
            "Epoch: 18/20 Iteration: 760 Train loss: 0.036\n",
            "Epoch: 19/20 Iteration: 765 Train loss: 0.009\n",
            "Epoch: 19/20 Iteration: 770 Train loss: 0.020\n",
            "Epoch: 19/20 Iteration: 775 Train loss: 0.010\n",
            "Val acc: 0.860\n",
            "Epoch: 19/20 Iteration: 780 Train loss: 0.032\n",
            "Epoch: 19/20 Iteration: 785 Train loss: 0.007\n",
            "Epoch: 19/20 Iteration: 790 Train loss: 0.022\n",
            "Epoch: 19/20 Iteration: 795 Train loss: 0.023\n",
            "Epoch: 19/20 Iteration: 800 Train loss: 0.022\n",
            "Val acc: 0.794\n"
          ],
          "name": "stdout"
        }
      ]
    },
    {
      "cell_type": "markdown",
      "metadata": {
        "id": "s3TxHik-gFNn",
        "colab_type": "text"
      },
      "source": [
        "## Testing"
      ]
    },
    {
      "cell_type": "code",
      "metadata": {
        "id": "F9AmjojXgFNn",
        "colab_type": "code",
        "colab": {
          "base_uri": "https://localhost:8080/",
          "height": 104
        },
        "outputId": "d890b79a-7dfc-4d96-c533-875ae2560326"
      },
      "source": [
        "test_acc = []\n",
        "with tf.Session(graph=graph) as sess:\n",
        "    saver.restore(sess, tf.train.latest_checkpoint('checkpoints'))\n",
        "    test_state = sess.run(cell.zero_state(batch_size, tf.float32))\n",
        "    for ii, (x, y) in enumerate(get_batches(test_x, test_y, batch_size), 1):\n",
        "        feed = {inputs_: x,\n",
        "                labels_: y[:, None],\n",
        "                keep_prob: 1,\n",
        "                initial_state: test_state}\n",
        "        batch_acc, test_state = sess.run([accuracy, final_state], feed_dict=feed)\n",
        "        test_acc.append(batch_acc)\n",
        "    print(\"Test accuracy: {:.3f}\".format(np.mean(test_acc)))"
      ],
      "execution_count": 34,
      "outputs": [
        {
          "output_type": "stream",
          "text": [
            "W0806 13:22:52.816085 139719125829504 deprecation.py:323] From /usr/local/lib/python3.6/dist-packages/tensorflow/python/training/saver.py:1276: checkpoint_exists (from tensorflow.python.training.checkpoint_management) is deprecated and will be removed in a future version.\n",
            "Instructions for updating:\n",
            "Use standard file APIs to check for files with this prefix.\n"
          ],
          "name": "stderr"
        },
        {
          "output_type": "stream",
          "text": [
            "Test accuracy: 0.784\n"
          ],
          "name": "stdout"
        }
      ]
    }
  ]
}